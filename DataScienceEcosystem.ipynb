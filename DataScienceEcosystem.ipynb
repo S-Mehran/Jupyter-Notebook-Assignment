{
 "cells": [
  {
   "cell_type": "markdown",
   "id": "847333ed-d41e-4c8f-8e62-6ad82ebd7010",
   "metadata": {},
   "source": [
    "# Data Science Tools and Ecosystem\n"
   ]
  },
  {
   "cell_type": "markdown",
   "id": "f6165445-486f-4ddc-afd1-5592dc3b2ef8",
   "metadata": {},
   "source": [
    "In this notebook, data science tools and headings are summarized"
   ]
  },
  {
   "cell_type": "markdown",
   "id": "3c88abba-745c-4707-908d-de9a4786b6ae",
   "metadata": {},
   "source": [
    "**Objectives**\n",
    "- Data Science Languages\n",
    "- Data Science Libraries\n",
    "- Data Science Environment"
   ]
  },
  {
   "cell_type": "markdown",
   "id": "f70c7eed-9bd9-4dce-8914-54acc09ece1e",
   "metadata": {},
   "source": [
    "Some of the popular languages that data scientists use are:\n",
    "1. Python\n",
    "2. Java\n",
    "3. SQL"
   ]
  },
  {
   "cell_type": "markdown",
   "id": "1e201562-e205-40b1-90fa-38379974a5f4",
   "metadata": {},
   "source": [
    "Some of the commonly used libraries in data science domain are:\n",
    "1. Pandas\n",
    "2. Numpy\n",
    "3. Matplotlib\n",
    "4. Scipy\n",
    "5. Scikit-learn"
   ]
  },
  {
   "cell_type": "markdown",
   "id": "e7dcfcdb-f31a-4733-afce-eb66bda164a2",
   "metadata": {},
   "source": [
    "| Data Science Tools | \n",
    "| -------------------|\n",
    "|Visual Studio Code | \n",
    "|JupyterLab | \n",
    "|Atoms |\n"
   ]
  },
  {
   "cell_type": "markdown",
   "id": "c3e36184-d907-44ff-b72f-a2846c2bff94",
   "metadata": {},
   "source": [
    "### Below are few examples of arithmetic expressions in Python"
   ]
  },
  {
   "cell_type": "code",
   "execution_count": 1,
   "id": "03e86e09-c5f1-430f-8223-07fdbd246fe3",
   "metadata": {},
   "outputs": [
    {
     "data": {
      "text/plain": [
       "17"
      ]
     },
     "execution_count": 1,
     "metadata": {},
     "output_type": "execute_result"
    }
   ],
   "source": [
    "(3*4)+5"
   ]
  },
  {
   "cell_type": "code",
   "execution_count": 2,
   "id": "cf868aa5-369f-4683-b5c6-658f1d7350ed",
   "metadata": {},
   "outputs": [
    {
     "name": "stdout",
     "output_type": "stream",
     "text": [
      "3.3333333333333335\n"
     ]
    }
   ],
   "source": [
    "time_in_min = 200\n",
    "time_in_hr = time_in_min/60\n",
    "print(time_in_hr)\n"
   ]
  },
  {
   "cell_type": "markdown",
   "id": "f82f806a-2f62-40d2-9115-46c03779251d",
   "metadata": {},
   "source": [
    "## Author\n",
    "Syed Muhammad Mehran"
   ]
  },
  {
   "cell_type": "code",
   "execution_count": null,
   "id": "d9acc535-ac6a-42ec-b97c-80d80edf2e9c",
   "metadata": {},
   "outputs": [],
   "source": []
  }
 ],
 "metadata": {
  "kernelspec": {
   "display_name": "Python 3 (ipykernel)",
   "language": "python",
   "name": "python3"
  },
  "language_info": {
   "codemirror_mode": {
    "name": "ipython",
    "version": 3
   },
   "file_extension": ".py",
   "mimetype": "text/x-python",
   "name": "python",
   "nbconvert_exporter": "python",
   "pygments_lexer": "ipython3",
   "version": "3.11.7"
  }
 },
 "nbformat": 4,
 "nbformat_minor": 5
}
